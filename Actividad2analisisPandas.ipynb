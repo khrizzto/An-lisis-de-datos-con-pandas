{
 "cells": [
  {
   "cell_type": "markdown",
   "metadata": {
    "id": "SML-04QQLd9l"
   },
   "source": [
    "**MAESTRÍA EN INTELIGENCIA ARTIFICIAL APLICADA**\n",
    "\n",
    "**Curso: TC4029 - Ciencia y analítica de datos**\n",
    "\n",
    "Tecnológico de Monterrey\n",
    "\n",
    "Prof Grettel Barceló Alonso\n",
    "\n",
    "**Semana 2**\n",
    "Pandas para el análisis de datos en Python\n",
    "\n",
    "---"
   ]
  },
  {
   "cell_type": "raw",
   "metadata": {
    "id": "6q35__bSBB3G"
   },
   "source": [
    "*   NOMBRE: Christopher Gonzalez\n",
    "*   MATRÍCULA: A01795482\n"
   ]
  },
  {
   "cell_type": "markdown",
   "metadata": {
    "id": "AepY3wwtDXkc"
   },
   "source": [
    "---"
   ]
  },
  {
   "cell_type": "markdown",
   "metadata": {
    "id": "BumCtObqBqGr"
   },
   "source": [
    "En esta actividad usarás el archivo de datos `LaqnData.csv`. Cada fila de este conjunto de datos muestra un registro de medición, por hora, de uno de los siguientes cinco contaminantes del aire:\n",
    "\n",
    "*   `NO` (óxido nítrico)\n",
    "*   `NO2` (dióxido de nitrógeno)\n",
    "*   `NOX` (óxidos nitrosos)\n",
    "*   `PM10` (partículas suspendidas con un diámetro aerodinámico igual o menor a 10 micrómetros)\n",
    "*   `PM2.5` (partículas suspendidas con un diámetro aerodinámico igual o menor a 2.5 micrómetros)\n",
    "\n",
    "Los datos se recopilaron en una ubicación de Londres durante todo el año 2017.\n",
    "\n",
    "**NOTA IMPORTANTE:** Asegúrate de responder *explícitamente* todos los cuestionamientos.\n"
   ]
  },
  {
   "cell_type": "markdown",
   "metadata": {
    "id": "mqtTwAL3Mr44"
   },
   "source": [
    "1.\tDescarga el archivo: `LaqnData.csv` y guarda, en un dataframe (`air_df`), todos sus registros.\n",
    "*   Observa la estructura y contenido del dataframe con los atributos y métodos estudiados (`shape`, `columns`, `head()`, `tail()`, `dtypes`)\n",
    "*   Calcula el porcentaje de valores faltantes por columna."
   ]
  },
  {
   "cell_type": "markdown",
   "metadata": {},
   "source": [
    "### *Aquí inicia la tarea parte 1*"
   ]
  },
  {
   "cell_type": "code",
   "execution_count": 13,
   "metadata": {
    "id": "F5JognteLaJV"
   },
   "outputs": [],
   "source": [
    "# import de las librerias\n",
    "import pandas as pd\n",
    "import numpy as np\n",
    "import matplotlib.pyplot as plt\n",
    "# lectura del archivo, ojo que mi archivo me lo paso la Dra y no se llama igual que el de Canvas\n",
    "air_df = pd pd.read_csv('LaqnData-2.csv')"
   ]
  },
  {
   "cell_type": "code",
   "execution_count": 14,
   "metadata": {},
   "outputs": [
    {
     "name": "stdout",
     "output_type": "stream",
     "text": [
      "<class 'pandas.core.frame.DataFrame'>\n",
      "RangeIndex: 43800 entries, 0 to 43799\n",
      "Data columns (total 6 columns):\n",
      " #   Column                   Non-Null Count  Dtype  \n",
      "---  ------                   --------------  -----  \n",
      " 0   Site                     43800 non-null  object \n",
      " 1   Species                  43800 non-null  object \n",
      " 2   ReadingDateTime          43800 non-null  object \n",
      " 3   Value                    40570 non-null  float64\n",
      " 4   Units                    43800 non-null  object \n",
      " 5   Provisional or Ratified  43800 non-null  object \n",
      "dtypes: float64(1), object(5)\n",
      "memory usage: 2.0+ MB\n"
     ]
    }
   ],
   "source": [
    "air_df.info()"
   ]
  },
  {
   "cell_type": "code",
   "execution_count": 16,
   "metadata": {},
   "outputs": [
    {
     "data": {
      "text/plain": [
       "(43800, 6)"
      ]
     },
     "execution_count": 16,
     "metadata": {},
     "output_type": "execute_result"
    }
   ],
   "source": [
    "air_df.shape"
   ]
  },
  {
   "cell_type": "code",
   "execution_count": 27,
   "metadata": {},
   "outputs": [],
   "source": [
    "# el CSV contiene 43800 observaciones y 6 columnas (features)"
   ]
  },
  {
   "cell_type": "code",
   "execution_count": 20,
   "metadata": {},
   "outputs": [
    {
     "data": {
      "text/plain": [
       "Index(['Site', 'Species', 'ReadingDateTime', 'Value', 'Units',\n",
       "       'Provisional or Ratified'],\n",
       "      dtype='object')"
      ]
     },
     "execution_count": 20,
     "metadata": {},
     "output_type": "execute_result"
    }
   ],
   "source": [
    "# Las columnas (Features) del CSV se imprimen en el resultado\n",
    "air_df.columns"
   ]
  },
  {
   "cell_type": "code",
   "execution_count": 26,
   "metadata": {},
   "outputs": [],
   "source": [
    "# Nombre de las columnas 'Site', 'Species', 'ReadingDateTime', 'Value', 'Units','Provisional or Ratified'"
   ]
  },
  {
   "cell_type": "code",
   "execution_count": 19,
   "metadata": {},
   "outputs": [
    {
     "data": {
      "text/html": [
       "<div>\n",
       "<style scoped>\n",
       "    .dataframe tbody tr th:only-of-type {\n",
       "        vertical-align: middle;\n",
       "    }\n",
       "\n",
       "    .dataframe tbody tr th {\n",
       "        vertical-align: top;\n",
       "    }\n",
       "\n",
       "    .dataframe thead th {\n",
       "        text-align: right;\n",
       "    }\n",
       "</style>\n",
       "<table border=\"1\" class=\"dataframe\">\n",
       "  <thead>\n",
       "    <tr style=\"text-align: right;\">\n",
       "      <th></th>\n",
       "      <th>Site</th>\n",
       "      <th>Species</th>\n",
       "      <th>ReadingDateTime</th>\n",
       "      <th>Value</th>\n",
       "      <th>Units</th>\n",
       "      <th>Provisional or Ratified</th>\n",
       "    </tr>\n",
       "  </thead>\n",
       "  <tbody>\n",
       "    <tr>\n",
       "      <th>0</th>\n",
       "      <td>CT3</td>\n",
       "      <td>NO</td>\n",
       "      <td>01/01/2017 00:00</td>\n",
       "      <td>3.5</td>\n",
       "      <td>ug m-3</td>\n",
       "      <td>R</td>\n",
       "    </tr>\n",
       "    <tr>\n",
       "      <th>1</th>\n",
       "      <td>CT3</td>\n",
       "      <td>NO</td>\n",
       "      <td>01/01/2017 01:00</td>\n",
       "      <td>3.6</td>\n",
       "      <td>ug m-3</td>\n",
       "      <td>R</td>\n",
       "    </tr>\n",
       "    <tr>\n",
       "      <th>2</th>\n",
       "      <td>CT3</td>\n",
       "      <td>NO</td>\n",
       "      <td>01/01/2017 02:00</td>\n",
       "      <td>2.2</td>\n",
       "      <td>ug m-3</td>\n",
       "      <td>R</td>\n",
       "    </tr>\n",
       "    <tr>\n",
       "      <th>3</th>\n",
       "      <td>CT3</td>\n",
       "      <td>NO</td>\n",
       "      <td>01/01/2017 03:00</td>\n",
       "      <td>2.1</td>\n",
       "      <td>ug m-3</td>\n",
       "      <td>R</td>\n",
       "    </tr>\n",
       "    <tr>\n",
       "      <th>4</th>\n",
       "      <td>CT3</td>\n",
       "      <td>NO</td>\n",
       "      <td>01/01/2017 04:00</td>\n",
       "      <td>3.3</td>\n",
       "      <td>ug m-3</td>\n",
       "      <td>R</td>\n",
       "    </tr>\n",
       "    <tr>\n",
       "      <th>5</th>\n",
       "      <td>CT3</td>\n",
       "      <td>NO</td>\n",
       "      <td>01/01/2017 05:00</td>\n",
       "      <td>2.1</td>\n",
       "      <td>ug m-3</td>\n",
       "      <td>R</td>\n",
       "    </tr>\n",
       "    <tr>\n",
       "      <th>6</th>\n",
       "      <td>CT3</td>\n",
       "      <td>NO</td>\n",
       "      <td>01/01/2017 06:00</td>\n",
       "      <td>4.4</td>\n",
       "      <td>ug m-3</td>\n",
       "      <td>R</td>\n",
       "    </tr>\n",
       "    <tr>\n",
       "      <th>7</th>\n",
       "      <td>CT3</td>\n",
       "      <td>NO</td>\n",
       "      <td>01/01/2017 07:00</td>\n",
       "      <td>5.1</td>\n",
       "      <td>ug m-3</td>\n",
       "      <td>R</td>\n",
       "    </tr>\n",
       "    <tr>\n",
       "      <th>8</th>\n",
       "      <td>CT3</td>\n",
       "      <td>NO</td>\n",
       "      <td>01/01/2017 08:00</td>\n",
       "      <td>7.4</td>\n",
       "      <td>ug m-3</td>\n",
       "      <td>R</td>\n",
       "    </tr>\n",
       "    <tr>\n",
       "      <th>9</th>\n",
       "      <td>CT3</td>\n",
       "      <td>NO</td>\n",
       "      <td>01/01/2017 09:00</td>\n",
       "      <td>6.5</td>\n",
       "      <td>ug m-3</td>\n",
       "      <td>R</td>\n",
       "    </tr>\n",
       "  </tbody>\n",
       "</table>\n",
       "</div>"
      ],
      "text/plain": [
       "  Site Species   ReadingDateTime  Value   Units Provisional or Ratified\n",
       "0  CT3      NO  01/01/2017 00:00    3.5  ug m-3                       R\n",
       "1  CT3      NO  01/01/2017 01:00    3.6  ug m-3                       R\n",
       "2  CT3      NO  01/01/2017 02:00    2.2  ug m-3                       R\n",
       "3  CT3      NO  01/01/2017 03:00    2.1  ug m-3                       R\n",
       "4  CT3      NO  01/01/2017 04:00    3.3  ug m-3                       R\n",
       "5  CT3      NO  01/01/2017 05:00    2.1  ug m-3                       R\n",
       "6  CT3      NO  01/01/2017 06:00    4.4  ug m-3                       R\n",
       "7  CT3      NO  01/01/2017 07:00    5.1  ug m-3                       R\n",
       "8  CT3      NO  01/01/2017 08:00    7.4  ug m-3                       R\n",
       "9  CT3      NO  01/01/2017 09:00    6.5  ug m-3                       R"
      ]
     },
     "execution_count": 19,
     "metadata": {},
     "output_type": "execute_result"
    }
   ],
   "source": [
    "# Aquí listamos las primeras 10 observaciones\n",
    "air_df.head(10)"
   ]
  },
  {
   "cell_type": "code",
   "execution_count": 21,
   "metadata": {},
   "outputs": [
    {
     "data": {
      "text/html": [
       "<div>\n",
       "<style scoped>\n",
       "    .dataframe tbody tr th:only-of-type {\n",
       "        vertical-align: middle;\n",
       "    }\n",
       "\n",
       "    .dataframe tbody tr th {\n",
       "        vertical-align: top;\n",
       "    }\n",
       "\n",
       "    .dataframe thead th {\n",
       "        text-align: right;\n",
       "    }\n",
       "</style>\n",
       "<table border=\"1\" class=\"dataframe\">\n",
       "  <thead>\n",
       "    <tr style=\"text-align: right;\">\n",
       "      <th></th>\n",
       "      <th>Site</th>\n",
       "      <th>Species</th>\n",
       "      <th>ReadingDateTime</th>\n",
       "      <th>Value</th>\n",
       "      <th>Units</th>\n",
       "      <th>Provisional or Ratified</th>\n",
       "    </tr>\n",
       "  </thead>\n",
       "  <tbody>\n",
       "    <tr>\n",
       "      <th>43790</th>\n",
       "      <td>CT3</td>\n",
       "      <td>PM2.5</td>\n",
       "      <td>31/12/2017 14:00</td>\n",
       "      <td>8.0</td>\n",
       "      <td>ug m-3</td>\n",
       "      <td>R</td>\n",
       "    </tr>\n",
       "    <tr>\n",
       "      <th>43791</th>\n",
       "      <td>CT3</td>\n",
       "      <td>PM2.5</td>\n",
       "      <td>31/12/2017 15:00</td>\n",
       "      <td>2.0</td>\n",
       "      <td>ug m-3</td>\n",
       "      <td>R</td>\n",
       "    </tr>\n",
       "    <tr>\n",
       "      <th>43792</th>\n",
       "      <td>CT3</td>\n",
       "      <td>PM2.5</td>\n",
       "      <td>31/12/2017 16:00</td>\n",
       "      <td>2.0</td>\n",
       "      <td>ug m-3</td>\n",
       "      <td>R</td>\n",
       "    </tr>\n",
       "    <tr>\n",
       "      <th>43793</th>\n",
       "      <td>CT3</td>\n",
       "      <td>PM2.5</td>\n",
       "      <td>31/12/2017 17:00</td>\n",
       "      <td>4.0</td>\n",
       "      <td>ug m-3</td>\n",
       "      <td>R</td>\n",
       "    </tr>\n",
       "    <tr>\n",
       "      <th>43794</th>\n",
       "      <td>CT3</td>\n",
       "      <td>PM2.5</td>\n",
       "      <td>31/12/2017 18:00</td>\n",
       "      <td>5.0</td>\n",
       "      <td>ug m-3</td>\n",
       "      <td>R</td>\n",
       "    </tr>\n",
       "    <tr>\n",
       "      <th>43795</th>\n",
       "      <td>CT3</td>\n",
       "      <td>PM2.5</td>\n",
       "      <td>31/12/2017 19:00</td>\n",
       "      <td>-2.0</td>\n",
       "      <td>ug m-3</td>\n",
       "      <td>R</td>\n",
       "    </tr>\n",
       "    <tr>\n",
       "      <th>43796</th>\n",
       "      <td>CT3</td>\n",
       "      <td>PM2.5</td>\n",
       "      <td>31/12/2017 20:00</td>\n",
       "      <td>6.0</td>\n",
       "      <td>ug m-3</td>\n",
       "      <td>R</td>\n",
       "    </tr>\n",
       "    <tr>\n",
       "      <th>43797</th>\n",
       "      <td>CT3</td>\n",
       "      <td>PM2.5</td>\n",
       "      <td>31/12/2017 21:00</td>\n",
       "      <td>5.0</td>\n",
       "      <td>ug m-3</td>\n",
       "      <td>R</td>\n",
       "    </tr>\n",
       "    <tr>\n",
       "      <th>43798</th>\n",
       "      <td>CT3</td>\n",
       "      <td>PM2.5</td>\n",
       "      <td>31/12/2017 22:00</td>\n",
       "      <td>5.0</td>\n",
       "      <td>ug m-3</td>\n",
       "      <td>R</td>\n",
       "    </tr>\n",
       "    <tr>\n",
       "      <th>43799</th>\n",
       "      <td>CT3</td>\n",
       "      <td>PM2.5</td>\n",
       "      <td>31/12/2017 23:00</td>\n",
       "      <td>6.0</td>\n",
       "      <td>ug m-3</td>\n",
       "      <td>R</td>\n",
       "    </tr>\n",
       "  </tbody>\n",
       "</table>\n",
       "</div>"
      ],
      "text/plain": [
       "      Site Species   ReadingDateTime  Value   Units Provisional or Ratified\n",
       "43790  CT3   PM2.5  31/12/2017 14:00    8.0  ug m-3                       R\n",
       "43791  CT3   PM2.5  31/12/2017 15:00    2.0  ug m-3                       R\n",
       "43792  CT3   PM2.5  31/12/2017 16:00    2.0  ug m-3                       R\n",
       "43793  CT3   PM2.5  31/12/2017 17:00    4.0  ug m-3                       R\n",
       "43794  CT3   PM2.5  31/12/2017 18:00    5.0  ug m-3                       R\n",
       "43795  CT3   PM2.5  31/12/2017 19:00   -2.0  ug m-3                       R\n",
       "43796  CT3   PM2.5  31/12/2017 20:00    6.0  ug m-3                       R\n",
       "43797  CT3   PM2.5  31/12/2017 21:00    5.0  ug m-3                       R\n",
       "43798  CT3   PM2.5  31/12/2017 22:00    5.0  ug m-3                       R\n",
       "43799  CT3   PM2.5  31/12/2017 23:00    6.0  ug m-3                       R"
      ]
     },
     "execution_count": 21,
     "metadata": {},
     "output_type": "execute_result"
    }
   ],
   "source": [
    "# Aquí listamos las últimas 10 observaciones\n",
    "air_df.tail(10)"
   ]
  },
  {
   "cell_type": "code",
   "execution_count": 22,
   "metadata": {},
   "outputs": [
    {
     "data": {
      "text/plain": [
       "Site                        object\n",
       "Species                     object\n",
       "ReadingDateTime             object\n",
       "Value                      float64\n",
       "Units                       object\n",
       "Provisional or Ratified     object\n",
       "dtype: object"
      ]
     },
     "execution_count": 22,
     "metadata": {},
     "output_type": "execute_result"
    }
   ],
   "source": [
    "#Aquí vamos a imprimir los data types del archivo\n",
    "air_df.dtypes"
   ]
  },
  {
   "cell_type": "code",
   "execution_count": 25,
   "metadata": {},
   "outputs": [
    {
     "data": {
      "text/plain": [
       "Site                       0.000000\n",
       "Species                    0.000000\n",
       "ReadingDateTime            0.000000\n",
       "Value                      7.374429\n",
       "Units                      0.000000\n",
       "Provisional or Ratified    0.000000\n",
       "dtype: float64"
      ]
     },
     "execution_count": 25,
     "metadata": {},
     "output_type": "execute_result"
    }
   ],
   "source": [
    "# ahora vamos a calcular el porcentaje de valores faltantes por columna\n",
    "missing_valsper = air_df.isnull().sum() / len(air_df) * 100\n",
    "missing_valsper"
   ]
  },
  {
   "cell_type": "code",
   "execution_count": null,
   "metadata": {},
   "outputs": [],
   "source": [
    "# La columna value tiene el 7.4% de valores faltantes"
   ]
  },
  {
   "cell_type": "markdown",
   "metadata": {},
   "source": [
    "### *Ahora la parte 2*"
   ]
  },
  {
   "cell_type": "markdown",
   "metadata": {
    "id": "APrlS185Cw-K"
   },
   "source": [
    "2.\tObtén la cantidad de valores únicos por columna (`nunique()`) para responder:\n",
    "\n",
    "\n",
    "*   ¿Cuántas mediciones se hicieron?\n",
    "*   ¿Cuántos contaminantes del aire (`Species`) se analizaron?\n",
    "*   ¿Qué columnas no agregan ningún valor informativo porque el mismo valor en todo el conjunto de datos? Elimínalas del dataframe.\n",
    "*   La columna `Units` tampoco posee valor informativo. Verifícalo con la función `unique()` y elimínala del dataframe."
   ]
  },
  {
   "cell_type": "code",
   "execution_count": 29,
   "metadata": {},
   "outputs": [
    {
     "data": {
      "text/plain": [
       "Site                          1\n",
       "Species                       5\n",
       "ReadingDateTime            8760\n",
       "Value                      1847\n",
       "Units                         3\n",
       "Provisional or Ratified       1\n",
       "dtype: int64"
      ]
     },
     "execution_count": 29,
     "metadata": {},
     "output_type": "execute_result"
    }
   ],
   "source": [
    "# vamos a obtener la cantidad de valores únicos por columna\n",
    "unique = air_df.nunique()\n",
    "unique"
   ]
  },
  {
   "cell_type": "markdown",
   "metadata": {},
   "source": [
    "1. ¿Cuántas mediciones se hicieron? **43800 total y 8760 por contaminante**\n",
    "2. ¿Cuántos contaminantes del aire (`Species`) se analizaron? **5**\n",
    "3. ¿Qué columnas no agregan ningún valor informativo porque el mismo valor en todo el conjunto de datos? Elimínalas del dataframe. **Site & Provisional or Ratified**"
   ]
  },
  {
   "cell_type": "code",
   "execution_count": 31,
   "metadata": {},
   "outputs": [
    {
     "data": {
      "text/plain": [
       "array(['ug m-3', 'ug m-3 as NO2', 'ug/m3'], dtype=object)"
      ]
     },
     "execution_count": 31,
     "metadata": {},
     "output_type": "execute_result"
    }
   ],
   "source": [
    "# La columna `Units` tampoco posee valor informativo. Verifícalo con la función `unique()`\n",
    "unique_units = air_df['Units'].unique()\n",
    "unique_units"
   ]
  },
  {
   "cell_type": "code",
   "execution_count": 32,
   "metadata": {},
   "outputs": [],
   "source": [
    "# Se obtienen las 3 unidades de medida"
   ]
  },
  {
   "cell_type": "code",
   "execution_count": 37,
   "metadata": {},
   "outputs": [
    {
     "data": {
      "text/html": [
       "<div>\n",
       "<style scoped>\n",
       "    .dataframe tbody tr th:only-of-type {\n",
       "        vertical-align: middle;\n",
       "    }\n",
       "\n",
       "    .dataframe tbody tr th {\n",
       "        vertical-align: top;\n",
       "    }\n",
       "\n",
       "    .dataframe thead th {\n",
       "        text-align: right;\n",
       "    }\n",
       "</style>\n",
       "<table border=\"1\" class=\"dataframe\">\n",
       "  <thead>\n",
       "    <tr style=\"text-align: right;\">\n",
       "      <th></th>\n",
       "      <th>Species</th>\n",
       "      <th>ReadingDateTime</th>\n",
       "      <th>Value</th>\n",
       "    </tr>\n",
       "  </thead>\n",
       "  <tbody>\n",
       "    <tr>\n",
       "      <th>0</th>\n",
       "      <td>NO</td>\n",
       "      <td>01/01/2017 00:00</td>\n",
       "      <td>3.5</td>\n",
       "    </tr>\n",
       "    <tr>\n",
       "      <th>1</th>\n",
       "      <td>NO</td>\n",
       "      <td>01/01/2017 01:00</td>\n",
       "      <td>3.6</td>\n",
       "    </tr>\n",
       "    <tr>\n",
       "      <th>2</th>\n",
       "      <td>NO</td>\n",
       "      <td>01/01/2017 02:00</td>\n",
       "      <td>2.2</td>\n",
       "    </tr>\n",
       "  </tbody>\n",
       "</table>\n",
       "</div>"
      ],
      "text/plain": [
       "  Species   ReadingDateTime  Value\n",
       "0      NO  01/01/2017 00:00    3.5\n",
       "1      NO  01/01/2017 01:00    3.6\n",
       "2      NO  01/01/2017 02:00    2.2"
      ]
     },
     "execution_count": 37,
     "metadata": {},
     "output_type": "execute_result"
    }
   ],
   "source": [
    "# se procede con la eliminicación de las columnas afectando directamente el mismo DF\n",
    "air_df.drop(['Site', 'Provisional or Ratified', 'Units'], axis=1, inplace=True)\n",
    "# vamos a verificar que se quitaron las columnas deseadas\n",
    "air_df.head(3)"
   ]
  },
  {
   "cell_type": "markdown",
   "metadata": {
    "id": "zEddCwHWEJZ7"
   },
   "source": [
    "3.\tRealiza el conteo de valores por categoría (`value_counts()`) para la columna `Species` y determina si las lecturas de cada contaminante coincide con el total de mediciones."
   ]
  },
  {
   "cell_type": "code",
   "execution_count": 40,
   "metadata": {},
   "outputs": [
    {
     "data": {
      "text/plain": [
       "NO       8760\n",
       "NO2      8760\n",
       "NOX      8760\n",
       "PM10     8760\n",
       "PM2.5    8760\n",
       "Name: Species, dtype: int64"
      ]
     },
     "execution_count": 40,
     "metadata": {},
     "output_type": "execute_result"
    }
   ],
   "source": [
    "species_count = air_df['Species'].value_counts()\n",
    "species_count"
   ]
  },
  {
   "cell_type": "markdown",
   "metadata": {},
   "source": [
    "Dado que cada categoría de contaminante (especie) tiene exactamente 8,760 mediciones y hay 5 categorías distintas, \n",
    "el total de mediciones (43,800) coincide con la suma de las mediciones por cada categoría."
   ]
  },
  {
   "cell_type": "markdown",
   "metadata": {
    "id": "zhJM6l1vETfI"
   },
   "source": [
    "4.\tUtiliza la función `groupby()` para determinar el promedio del valor por contaminante."
   ]
  },
  {
   "cell_type": "code",
   "execution_count": 42,
   "metadata": {
    "id": "zstyHahSETJK"
   },
   "outputs": [
    {
     "data": {
      "text/plain": [
       "Species\n",
       "NO       15.045115\n",
       "NO2      38.010185\n",
       "NOX      61.078661\n",
       "PM10     22.551704\n",
       "PM2.5    14.999831\n",
       "Name: Value, dtype: float64"
      ]
     },
     "execution_count": 42,
     "metadata": {},
     "output_type": "execute_result"
    }
   ],
   "source": [
    "species_mean = air_df.groupby('Species')['Value'].mean()\n",
    "species_mean"
   ]
  },
  {
   "cell_type": "code",
   "execution_count": 43,
   "metadata": {},
   "outputs": [],
   "source": [
    "#Se obtiene el promedio de las lecturas de cada contaminante, 15,38, 61, 22 y 14"
   ]
  },
  {
   "cell_type": "markdown",
   "metadata": {
    "id": "GY2ux-Q_EV7J"
   },
   "source": [
    "5.\tEl conjunto de datos está en un formato largo. Aplique la función apropiada para cambiarlo al formato ancho (`ReadingDateTime` como índice y cada contaminante en una columna). Nombre el dataframe resultante como `pvt_df`."
   ]
  },
  {
   "cell_type": "code",
   "execution_count": 44,
   "metadata": {
    "id": "1IETxb9vFIF-"
   },
   "outputs": [
    {
     "name": "stdout",
     "output_type": "stream",
     "text": [
      "Species            NO   NO2   NOX  PM10  PM2.5\n",
      "ReadingDateTime                               \n",
      "01/01/2017 00:00  3.5  30.8  36.2  35.7    NaN\n",
      "01/01/2017 01:00  3.6  31.5  37.0  28.5    NaN\n",
      "01/01/2017 02:00  2.2  27.3  30.7  22.7    NaN\n",
      "01/01/2017 03:00  2.1  23.5  26.8  20.5    NaN\n",
      "01/01/2017 04:00  3.3  28.0  33.0  22.1    NaN\n"
     ]
    }
   ],
   "source": [
    "# Cada contaminante (Species) se convierte en una columna y se pone el tiempo como índice\n",
    "pvt_df = air_df.pivot_table(index='ReadingDateTime', columns='Species', values='Value')\n",
    "\n",
    "# Veamos el resultado :)\n",
    "print(pvt_df.head())"
   ]
  },
  {
   "cell_type": "markdown",
   "metadata": {
    "id": "JmbiBXqFFIZx"
   },
   "source": [
    "6.\tA través de la función `describe()` responde:\n",
    "\n",
    "*   ¿Cuál es el mayor valor de `NO2` registrado? ¿A qué día pertenece?\n",
    "*   ¿Cuál es el menor valor de `PM10` registrado?¿A qué día pertenece?\n",
    "*   ¿Cuál es la mediana del `NO`? ¿Cómo se interpreta?\n",
    "*   ¿Cuál es el primer cuartil de `PM2.5`? ¿Qué significa?"
   ]
  },
  {
   "cell_type": "code",
   "execution_count": 45,
   "metadata": {
    "id": "_qWYoEx3Fbod"
   },
   "outputs": [
    {
     "name": "stdout",
     "output_type": "stream",
     "text": [
      "Mayor valor de NO2: 120.2, Día: 24/01/2017 19:00\n",
      "Menor valor de PM10: -5.6, Día: 12/09/2017 23:00\n",
      "Mediana de NO: 7.1\n",
      "Primer cuartil de PM2.5: 7.0\n"
     ]
    }
   ],
   "source": [
    "# Obtener estadísticas descriptivas\n",
    "pvt_df_desc = pvt_df.describe()\n",
    "\n",
    "# Máximo de NO2\n",
    "max_NO2 = pvt_df_desc.loc['max', 'NO2']\n",
    "# Día con el mayor valor de NO2\n",
    "day_max_NO2 = pvt_df['NO2'].idxmax()\n",
    "\n",
    "# Mínimo de PM10\n",
    "min_PM10 = pvt_df_desc.loc['min', 'PM10']\n",
    "# Día con el menor valor de PM10\n",
    "day_min_PM10 = pvt_df['PM10'].idxmin()\n",
    "\n",
    "# Mediana de NO\n",
    "median_NO = pvt_df_desc.loc['50%', 'NO']\n",
    "\n",
    "# Primer cuartil (25%) de PM2.5\n",
    "first_quartile = pvt_df_desc.loc['25%', 'PM2.5']\n",
    "\n",
    "print(f\"Mayor valor de NO2: {max_NO2}, Día: {day_max_NO2}\")\n",
    "print(f\"Menor valor de PM10: {min_PM10}, Día: {day_min_PM10}\")\n",
    "print(f\"Mediana de NO: {median_NO}\")\n",
    "print(f\"Primer cuartil de PM2.5: {first_quartile}\")"
   ]
  },
  {
   "cell_type": "raw",
   "metadata": {},
   "source": [
    "Mayor valor de NO2 registrado:\n",
    "Valor máximo: 120.2\n",
    "Día correspondiente: 24 de enero de 2017 a las 19:00 horas.\n",
    "Menor valor de PM10 registrado:\n",
    "Valor mínimo: -5.6 \n",
    "Día correspondiente: 12 de septiembre de 2017 a las 23:00 horas.\n",
    "Mediana del NO:\n",
    "Mediana: 7.1\n",
    "La mediana de 7.1 para NO indica que la mitad de las mediciones son menores a 7.1 y la otra mitad son mayores.\n",
    "Primer cuartil de PM2.5:\n",
    "Primer cuartil (25%): 7.0\n",
    "Un valor de 7.0 significa que el 25% de las mediciones son iguales o menores a 7.0"
   ]
  },
  {
   "cell_type": "markdown",
   "metadata": {
    "id": "Rki16hYaFd9p"
   },
   "source": [
    "7.\tDibuja un histograma para cada columna de `pvt_df`. ¿Qué contaminante tiene mayor variabilidad?"
   ]
  },
  {
   "cell_type": "code",
   "execution_count": 46,
   "metadata": {
    "id": "NaGkunSeFfn8"
   },
   "outputs": [
    {
     "data": {
      "image/png": "[encoded data removed]",
      "text/plain": [
       "<Figure size 1500x1000 with 5 Axes>"
      ]
     },
     "metadata": {},
     "output_type": "display_data"
    }
   ],
   "source": [
    "# vamos a dibujar un histograma para cada columna de pvt_df\n",
    "plt.figure(figsize=(15, 10))\n",
    "\n",
    "for i, column in enumerate(pvt_df.columns, 1):\n",
    "    plt.subplot(2, 3, i)\n",
    "    pvt_df[column].plot(kind='hist', bins=30)\n",
    "    plt.title(column)\n",
    "\n",
    "plt.tight_layout()\n",
    "plt.show()"
   ]
  },
  {
   "cell_type": "code",
   "execution_count": 47,
   "metadata": {},
   "outputs": [
    {
     "data": {
      "text/plain": [
       "Species\n",
       "NO       26.678565\n",
       "NO2      18.580841\n",
       "NOX      54.584805\n",
       "PM10     15.344755\n",
       "PM2.5    13.558588\n",
       "dtype: float64"
      ]
     },
     "execution_count": 47,
     "metadata": {},
     "output_type": "execute_result"
    }
   ],
   "source": [
    "# vamos a calcular la desviación standard\n",
    "stad_dev = pvt_df.std()\n",
    "stad_dev"
   ]
  },
  {
   "cell_type": "markdown",
   "metadata": {},
   "source": [
    "Basado en la desviación estándar, el contaminante con mayor variabilidad es NOX aproximadamente 54.58"
   ]
  },
  {
   "cell_type": "markdown",
   "metadata": {
    "id": "2hJ4LzP3fgvy"
   },
   "source": [
    "8.\tEjecuta el siguiente código y comenta qué hace cada línea:"
   ]
  },
  {
   "cell_type": "code",
   "execution_count": 53,
   "metadata": {
    "id": "goQuWzNVfomA"
   },
   "outputs": [
    {
     "data": {
      "text/html": [
       "<div>\n",
       "<style scoped>\n",
       "    .dataframe tbody tr th:only-of-type {\n",
       "        vertical-align: middle;\n",
       "    }\n",
       "\n",
       "    .dataframe tbody tr th {\n",
       "        vertical-align: top;\n",
       "    }\n",
       "\n",
       "    .dataframe thead th {\n",
       "        text-align: right;\n",
       "    }\n",
       "</style>\n",
       "<table border=\"1\" class=\"dataframe\">\n",
       "  <thead>\n",
       "    <tr style=\"text-align: right;\">\n",
       "      <th></th>\n",
       "      <th></th>\n",
       "      <th></th>\n",
       "      <th></th>\n",
       "      <th>Value</th>\n",
       "    </tr>\n",
       "    <tr>\n",
       "      <th>Month</th>\n",
       "      <th>Day</th>\n",
       "      <th>Time</th>\n",
       "      <th>Species</th>\n",
       "      <th></th>\n",
       "    </tr>\n",
       "  </thead>\n",
       "  <tbody>\n",
       "    <tr>\n",
       "      <th rowspan=\"5\" valign=\"top\">01</th>\n",
       "      <th rowspan=\"5\" valign=\"top\">01</th>\n",
       "      <th>00:00</th>\n",
       "      <th>NO</th>\n",
       "      <td>3.5</td>\n",
       "    </tr>\n",
       "    <tr>\n",
       "      <th>01:00</th>\n",
       "      <th>NO</th>\n",
       "      <td>3.6</td>\n",
       "    </tr>\n",
       "    <tr>\n",
       "      <th>02:00</th>\n",
       "      <th>NO</th>\n",
       "      <td>2.2</td>\n",
       "    </tr>\n",
       "    <tr>\n",
       "      <th>03:00</th>\n",
       "      <th>NO</th>\n",
       "      <td>2.1</td>\n",
       "    </tr>\n",
       "    <tr>\n",
       "      <th>04:00</th>\n",
       "      <th>NO</th>\n",
       "      <td>3.3</td>\n",
       "    </tr>\n",
       "    <tr>\n",
       "      <th>...</th>\n",
       "      <th>...</th>\n",
       "      <th>...</th>\n",
       "      <th>...</th>\n",
       "      <td>...</td>\n",
       "    </tr>\n",
       "    <tr>\n",
       "      <th rowspan=\"5\" valign=\"top\">12</th>\n",
       "      <th rowspan=\"5\" valign=\"top\">31</th>\n",
       "      <th>19:00</th>\n",
       "      <th>PM2.5</th>\n",
       "      <td>-2.0</td>\n",
       "    </tr>\n",
       "    <tr>\n",
       "      <th>20:00</th>\n",
       "      <th>PM2.5</th>\n",
       "      <td>6.0</td>\n",
       "    </tr>\n",
       "    <tr>\n",
       "      <th>21:00</th>\n",
       "      <th>PM2.5</th>\n",
       "      <td>5.0</td>\n",
       "    </tr>\n",
       "    <tr>\n",
       "      <th>22:00</th>\n",
       "      <th>PM2.5</th>\n",
       "      <td>5.0</td>\n",
       "    </tr>\n",
       "    <tr>\n",
       "      <th>23:00</th>\n",
       "      <th>PM2.5</th>\n",
       "      <td>6.0</td>\n",
       "    </tr>\n",
       "  </tbody>\n",
       "</table>\n",
       "<p>43800 rows × 1 columns</p>\n",
       "</div>"
      ],
      "text/plain": [
       "                         Value\n",
       "Month Day Time  Species       \n",
       "01    01  00:00 NO         3.5\n",
       "          01:00 NO         3.6\n",
       "          02:00 NO         2.2\n",
       "          03:00 NO         2.1\n",
       "          04:00 NO         3.3\n",
       "...                        ...\n",
       "12    31  19:00 PM2.5     -2.0\n",
       "          20:00 PM2.5      6.0\n",
       "          21:00 PM2.5      5.0\n",
       "          22:00 PM2.5      5.0\n",
       "          23:00 PM2.5      6.0\n",
       "\n",
       "[43800 rows x 1 columns]"
      ]
     },
     "execution_count": 53,
     "metadata": {},
     "output_type": "execute_result"
    }
   ],
   "source": [
    "# Separar 'ReadingDateTime' en fecha y hora\n",
    "datetime_df = air_df.ReadingDateTime.str.split(' ',expand=True)\n",
    "datetime_df.columns = ['Date','Time']\n",
    "datetime_df\n",
    "# Separar la fecha en día, mes y año\n",
    "date_df = datetime_df.Date.str.split('/',expand=True)\n",
    "date_df.columns = ['Day','Month','Year']\n",
    "date_df\n",
    "# Uniendo los nuevos DataFrames al DataFrame original y eliminando la columna 'ReadingDateTime'\n",
    "air_df = air_df.join(date_df).join(datetime_df.Time).drop(columns=['ReadingDateTime','Year'])\n",
    "# Estableciendo un índice combinado\n",
    "air_df = air_df.set_index(['Month','Day','Time','Species'])\n",
    "air_df"
   ]
  },
  {
   "cell_type": "markdown",
   "metadata": {
    "id": "37E3dol8fpik"
   },
   "source": [
    "9. Ejecuta la siguiente instrucción y compara su salida con la del código anterior (ejercicio 8). ¿Son iguales?"
   ]
  },
  {
   "cell_type": "code",
   "execution_count": 54,
   "metadata": {
    "id": "cgbAxJrvfweW"
   },
   "outputs": [
    {
     "data": {
      "text/html": [
       "<div>\n",
       "<style scoped>\n",
       "    .dataframe tbody tr th:only-of-type {\n",
       "        vertical-align: middle;\n",
       "    }\n",
       "\n",
       "    .dataframe tbody tr th {\n",
       "        vertical-align: top;\n",
       "    }\n",
       "\n",
       "    .dataframe thead tr th {\n",
       "        text-align: left;\n",
       "    }\n",
       "\n",
       "    .dataframe thead tr:last-of-type th {\n",
       "        text-align: right;\n",
       "    }\n",
       "</style>\n",
       "<table border=\"1\" class=\"dataframe\">\n",
       "  <thead>\n",
       "    <tr>\n",
       "      <th></th>\n",
       "      <th></th>\n",
       "      <th></th>\n",
       "      <th colspan=\"5\" halign=\"left\">Value</th>\n",
       "    </tr>\n",
       "    <tr>\n",
       "      <th></th>\n",
       "      <th></th>\n",
       "      <th>Species</th>\n",
       "      <th>NO</th>\n",
       "      <th>NO2</th>\n",
       "      <th>NOX</th>\n",
       "      <th>PM10</th>\n",
       "      <th>PM2.5</th>\n",
       "    </tr>\n",
       "    <tr>\n",
       "      <th>Month</th>\n",
       "      <th>Day</th>\n",
       "      <th>Time</th>\n",
       "      <th></th>\n",
       "      <th></th>\n",
       "      <th></th>\n",
       "      <th></th>\n",
       "      <th></th>\n",
       "    </tr>\n",
       "  </thead>\n",
       "  <tbody>\n",
       "    <tr>\n",
       "      <th rowspan=\"5\" valign=\"top\">01</th>\n",
       "      <th rowspan=\"5\" valign=\"top\">01</th>\n",
       "      <th>00:00</th>\n",
       "      <td>3.5</td>\n",
       "      <td>30.8</td>\n",
       "      <td>36.2</td>\n",
       "      <td>35.7</td>\n",
       "      <td>NaN</td>\n",
       "    </tr>\n",
       "    <tr>\n",
       "      <th>01:00</th>\n",
       "      <td>3.6</td>\n",
       "      <td>31.5</td>\n",
       "      <td>37.0</td>\n",
       "      <td>28.5</td>\n",
       "      <td>NaN</td>\n",
       "    </tr>\n",
       "    <tr>\n",
       "      <th>02:00</th>\n",
       "      <td>2.2</td>\n",
       "      <td>27.3</td>\n",
       "      <td>30.7</td>\n",
       "      <td>22.7</td>\n",
       "      <td>NaN</td>\n",
       "    </tr>\n",
       "    <tr>\n",
       "      <th>03:00</th>\n",
       "      <td>2.1</td>\n",
       "      <td>23.5</td>\n",
       "      <td>26.8</td>\n",
       "      <td>20.5</td>\n",
       "      <td>NaN</td>\n",
       "    </tr>\n",
       "    <tr>\n",
       "      <th>04:00</th>\n",
       "      <td>3.3</td>\n",
       "      <td>28.0</td>\n",
       "      <td>33.0</td>\n",
       "      <td>22.1</td>\n",
       "      <td>NaN</td>\n",
       "    </tr>\n",
       "    <tr>\n",
       "      <th>...</th>\n",
       "      <th>...</th>\n",
       "      <th>...</th>\n",
       "      <td>...</td>\n",
       "      <td>...</td>\n",
       "      <td>...</td>\n",
       "      <td>...</td>\n",
       "      <td>...</td>\n",
       "    </tr>\n",
       "    <tr>\n",
       "      <th rowspan=\"5\" valign=\"top\">12</th>\n",
       "      <th rowspan=\"5\" valign=\"top\">31</th>\n",
       "      <th>19:00</th>\n",
       "      <td>0.7</td>\n",
       "      <td>17.5</td>\n",
       "      <td>18.5</td>\n",
       "      <td>16.3</td>\n",
       "      <td>-2.0</td>\n",
       "    </tr>\n",
       "    <tr>\n",
       "      <th>20:00</th>\n",
       "      <td>0.7</td>\n",
       "      <td>17.5</td>\n",
       "      <td>18.6</td>\n",
       "      <td>14.5</td>\n",
       "      <td>6.0</td>\n",
       "    </tr>\n",
       "    <tr>\n",
       "      <th>21:00</th>\n",
       "      <td>0.7</td>\n",
       "      <td>14.1</td>\n",
       "      <td>15.1</td>\n",
       "      <td>8.6</td>\n",
       "      <td>5.0</td>\n",
       "    </tr>\n",
       "    <tr>\n",
       "      <th>22:00</th>\n",
       "      <td>1.1</td>\n",
       "      <td>22.0</td>\n",
       "      <td>23.6</td>\n",
       "      <td>12.5</td>\n",
       "      <td>5.0</td>\n",
       "    </tr>\n",
       "    <tr>\n",
       "      <th>23:00</th>\n",
       "      <td>0.9</td>\n",
       "      <td>19.4</td>\n",
       "      <td>20.7</td>\n",
       "      <td>10.4</td>\n",
       "      <td>6.0</td>\n",
       "    </tr>\n",
       "  </tbody>\n",
       "</table>\n",
       "<p>8760 rows × 5 columns</p>\n",
       "</div>"
      ],
      "text/plain": [
       "                Value                        \n",
       "Species            NO   NO2   NOX  PM10 PM2.5\n",
       "Month Day Time                               \n",
       "01    01  00:00   3.5  30.8  36.2  35.7   NaN\n",
       "          01:00   3.6  31.5  37.0  28.5   NaN\n",
       "          02:00   2.2  27.3  30.7  22.7   NaN\n",
       "          03:00   2.1  23.5  26.8  20.5   NaN\n",
       "          04:00   3.3  28.0  33.0  22.1   NaN\n",
       "...               ...   ...   ...   ...   ...\n",
       "12    31  19:00   0.7  17.5  18.5  16.3  -2.0\n",
       "          20:00   0.7  17.5  18.6  14.5   6.0\n",
       "          21:00   0.7  14.1  15.1   8.6   5.0\n",
       "          22:00   1.1  22.0  23.6  12.5   5.0\n",
       "          23:00   0.9  19.4  20.7  10.4   6.0\n",
       "\n",
       "[8760 rows x 5 columns]"
      ]
     },
     "execution_count": 54,
     "metadata": {},
     "output_type": "execute_result"
    }
   ],
   "source": [
    "air_df.unstack()"
   ]
  },
  {
   "cell_type": "markdown",
   "metadata": {},
   "source": [
    "Respuesta de la 9, no son iguales porque la función unstack reorganiza el dataframe de modo que los niveles del índice se mueven a los niveles de las columnas."
   ]
  },
  {
   "cell_type": "markdown",
   "metadata": {
    "id": "K1vWLX2ffxHV"
   },
   "source": [
    "10.\tExplica cuáles son las diferencias y similitudes entre el par `melt()/pivot()` y el par `stack()/unstack()`. Si tuvieras que elegir una contraparte para `melt()` entre `stack()/unstack()`, ¿cuál elegirías? ¿Por qué?"
   ]
  },
  {
   "cell_type": "markdown",
   "metadata": {
    "id": "L0EtgOVIfzRd"
   },
   "source": [
    "melt() se utiliza para transformar un DF de un formato ancho a un formato largo (convierte las columnas en filas)\n",
    "pivot() hace lo contrario a melt().\n",
    "stack() y unstack() son bastantes similares a melt y pivot pero trabajan a nivel de index.\n",
    "\n",
    "**Si tuvieras que elegir una contraparte para melt() entre stack()/unstack(), ¿cuál elegirías? ¿Por qué?**\n",
    "\n",
    "stack()\n",
    "\n",
    "Razón: melt() transforma un DF de un formato ancho a un formato largo, y stack() realiza una función similar al comprimir las columnas en índices, lo que también resulta en un DF más largo."
   ]
  },
  {
   "cell_type": "code",
   "execution_count": null,
   "metadata": {},
   "outputs": [],
   "source": []
  }
 ],
 "metadata": {
  "colab": {
   "provenance": []
  },
  "kernelspec": {
   "display_name": "Python 3 (ipykernel)",
   "language": "python",
   "name": "python3"
  },
  "language_info": {
   "codemirror_mode": {
    "name": "ipython",
    "version": 3
   },
   "file_extension": ".py",
   "mimetype": "text/x-python",
   "name": "python",
   "nbconvert_exporter": "python",
   "pygments_lexer": "ipython3",
   "version": "3.11.4"
  }
 },
 "nbformat": 4,
 "nbformat_minor": 4
}
